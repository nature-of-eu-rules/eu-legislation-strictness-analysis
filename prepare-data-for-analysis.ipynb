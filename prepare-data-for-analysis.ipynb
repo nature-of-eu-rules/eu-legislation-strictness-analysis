{
 "cells": [
  {
   "cell_type": "code",
   "execution_count": null,
   "id": "500be8f9-f918-406f-9633-ec393839705a",
   "metadata": {},
   "outputs": [],
   "source": [
    "import pandas as pd\n",
    "\n",
    "sent_df = pd.read_csv('extracted_sentences_classified_1971_2022.csv')\n",
    "sent_df = sent_df[['celex', 'sent', 'regulatory_according_to_rule', 'sent_count', 'word_count']]\n",
    "metadata_df = pd.read_csv('metadata.csv')"
   ]
  },
  {
   "cell_type": "code",
   "execution_count": null,
   "id": "2839b94f-c036-44ec-a03a-6c767e9402ca",
   "metadata": {},
   "outputs": [],
   "source": [
    "regulatory_df = sent_df[sent_df['regulatory_according_to_rule'] == 1.0]\n",
    "constitutive_df = sent_df[sent_df['regulatory_according_to_rule'] == 0.0]\n",
    "regulation_counts_df = regulatory_df.groupby(['celex'])['sent'].count()\n",
    "rc_ind = regulation_counts_df.reset_index(drop=False)\n",
    "rc = pd.DataFrame(rc_ind.values.tolist(), columns=['celex', 'reg_count'])"
   ]
  },
  {
   "cell_type": "code",
   "execution_count": null,
   "id": "1924ca52-da0a-4a99-91e9-7ad0e6f0b85f",
   "metadata": {},
   "outputs": [],
   "source": [
    "col_reg_counts = []\n",
    "sent_counts = []\n",
    "word_counts = []\n",
    "celexes = list(set(rc['celex'].tolist()))\n",
    "count = 0\n",
    "m_celexes = metadata_df['celex'].tolist()\n",
    "\n",
    "idx = 0\n",
    "for m_celex in m_celexes:\n",
    "    idx += 1\n",
    "    if idx % 1000 == 0:\n",
    "        print(idx)\n",
    "\n",
    "    if m_celex in celexes:\n",
    "        matching_item = rc[rc['celex'] == m_celex]\n",
    "        col_reg_counts.append(matching_item['reg_count'].tolist()[0])\n",
    "        mat = sent_df[sent_df['celex'] == m_celex]\n",
    "        sent_counts.append(mat['sent_count'].tolist()[0])\n",
    "        word_counts.append(mat['word_count'].tolist()[0])\n",
    "    else:\n",
    "        col_reg_counts.append(0)\n",
    "        mat = sent_df[sent_df['celex'] == m_celex]\n",
    "        if len(mat) > 0:\n",
    "            sent_counts.append(mat['sent_count'].tolist()[0])\n",
    "            word_counts.append(mat['word_count'].tolist()[0])\n",
    "        else:\n",
    "            count += 1\n",
    "            sent_counts.append(1)\n",
    "            word_counts.append(1)\n",
    "\n",
    "print(count)"
   ]
  },
  {
   "cell_type": "code",
   "execution_count": null,
   "id": "b2daa4f7-75b7-4638-a9b1-0e79da7ab890",
   "metadata": {},
   "outputs": [],
   "source": [
    "print(len(col_reg_counts))\n",
    "print(len(sent_counts))\n",
    "print(len(word_counts))"
   ]
  },
  {
   "cell_type": "code",
   "execution_count": null,
   "id": "deb83639-894e-43ff-9373-be1125e2d313",
   "metadata": {},
   "outputs": [],
   "source": [
    "metadata_df['reg_count'] = col_reg_counts\n",
    "metadata_df['sent_count'] = sent_counts\n",
    "metadata_df['word_count'] = word_counts\n",
    "metadata_df.to_csv('metadata_enriched.csv', index=False)"
   ]
  },
  {
   "cell_type": "code",
   "execution_count": null,
   "id": "296d867f-67d8-4717-8c47-177e5d49c365",
   "metadata": {},
   "outputs": [],
   "source": [
    "# calculate different metrics\n",
    "# metric 1: raw count\n",
    "# metric 2: raw count / word_count\n",
    "metric_2 = []\n",
    "# metric 3: raw_count / sent_count\n",
    "metric_3 = []\n",
    "# metric 4: (raw_count / sent_count) + (raw_count / mean_reg_count_year)\n",
    "metric_4 = []\n",
    "# metric 5: (raw_count / sent_count) + (raw_count / mean_reg_count)\n",
    "metric_5 = []"
   ]
  }
 ],
 "metadata": {
  "kernelspec": {
   "display_name": "Python 3 (ipykernel)",
   "language": "python",
   "name": "python3"
  },
  "language_info": {
   "codemirror_mode": {
    "name": "ipython",
    "version": 3
   },
   "file_extension": ".py",
   "mimetype": "text/x-python",
   "name": "python",
   "nbconvert_exporter": "python",
   "pygments_lexer": "ipython3",
   "version": "3.8.3"
  }
 },
 "nbformat": 4,
 "nbformat_minor": 5
}
